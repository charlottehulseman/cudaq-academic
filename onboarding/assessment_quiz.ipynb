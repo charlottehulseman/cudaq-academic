{
 "cells": [
  {
   "cell_type": "markdown",
   "id": "44a10750",
   "metadata": {},
   "source": [
    "## CUDA-Q Quantum Quest: Find Your Path\n",
    "### Time: 10 minutes"
   ]
  },
  {
   "cell_type": "code",
   "execution_count": null,
   "id": "2f7fa4bf",
   "metadata": {},
   "outputs": [],
   "source": [
    "import json\n",
    "from typing import Dict, List\n",
    "\n",
    "class QuantumQuestAssessment:\n",
    "    def __init__(self):\n",
    "        self.profile = {\n",
    "            'major': None,\n",
    "            'coding_level': None,\n",
    "            'math_comfort': None,\n",
    "            'quantum_exposure': None,\n",
    "            'learning_style': None\n",
    "        }\n",
    "    \n",
    "    def question_1_background(self):\n",
    "        \"\"\"What's your background?\"\"\"\n",
    "        print(\"1. What's your major/background?\")\n",
    "        print(\"   a) Computer Science\")\n",
    "        print(\"   b) Physics\")\n",
    "        print(\"   c) Chemistry/Biology\")\n",
    "        print(\"   d) Mathematics\")\n",
    "        print(\"   e) Business/Non-STEM\")\n",
    "        \n",
    "        # Based on answer, set different prereqs\n",
    "        \n",
    "    def question_2_coding(self):\n",
    "        \"\"\"Test basic Python knowledge\"\"\"\n",
    "        print(\"2. What does this code output?\")\n",
    "        print(\"   lst = [1, 2, 3]\")\n",
    "        print(\"   print(lst[-1])\")\n",
    "        \n",
    "    def question_3_linear_algebra(self):\n",
    "        \"\"\"Test linear algebra basics\"\"\"\n",
    "        print(\"3. What is |0⟩ in vector notation?\")\n",
    "        print(\"   a) [0, 1]\")\n",
    "        print(\"   b) [1, 0]\")\n",
    "        print(\"   c) [1, 1]/√2\")\n",
    "        \n",
    "    def generate_learning_path(self) -> Dict:\n",
    "        \"\"\"Generate personalized curriculum\"\"\"\n",
    "        path = {\n",
    "            'prerequisites': [],\n",
    "            'estimated_time': 0,\n",
    "            'starting_level': 0\n",
    "        }\n",
    "        \n",
    "        if self.profile['coding_level'] < 3:\n",
    "            path['prerequisites'].append('python_basics')\n",
    "            path['estimated_time'] += 5\n",
    "            \n",
    "        if self.profile['math_comfort'] < 3:\n",
    "            path['prerequisites'].append('linear_algebra_refresh')\n",
    "            path['estimated_time'] += 3\n",
    "            \n",
    "        if self.profile['quantum_exposure'] == 0:\n",
    "            path['prerequisites'].append('quantum_primers')\n",
    "            path['estimated_time'] += 2\n",
    "            \n",
    "        return path"
   ]
  }
 ],
 "metadata": {
  "language_info": {
   "name": "python"
  }
 },
 "nbformat": 4,
 "nbformat_minor": 5
}
